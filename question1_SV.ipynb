{
 "cells": [
  {
   "cell_type": "code",
   "execution_count": 1,
   "id": "4a410cd0",
   "metadata": {},
   "outputs": [],
   "source": [
    "import pandas as pd"
   ]
  },
  {
   "cell_type": "markdown",
   "id": "0f213e05",
   "metadata": {},
   "source": [
    "The 3 Questions:\n",
    "    \n",
    "- Do certain professions retire at an earlier age?\n",
    "- What factors influence early retirement?\n",
    "- How has retirement age changed overtime for everyone?"
   ]
  },
  {
   "cell_type": "code",
   "execution_count": 3,
   "id": "f6c729f8",
   "metadata": {},
   "outputs": [
    {
     "data": {
      "text/html": [
       "<div>\n",
       "<style scoped>\n",
       "    .dataframe tbody tr th:only-of-type {\n",
       "        vertical-align: middle;\n",
       "    }\n",
       "\n",
       "    .dataframe tbody tr th {\n",
       "        vertical-align: top;\n",
       "    }\n",
       "\n",
       "    .dataframe thead th {\n",
       "        text-align: right;\n",
       "    }\n",
       "</style>\n",
       "<table border=\"1\" class=\"dataframe\">\n",
       "  <thead>\n",
       "    <tr style=\"text-align: right;\">\n",
       "      <th></th>\n",
       "      <th>Year</th>\n",
       "      <th>Population of Interest</th>\n",
       "      <th>Sex</th>\n",
       "      <th>Classification</th>\n",
       "      <th>Category</th>\n",
       "      <th>54 years and under</th>\n",
       "      <th>55 - 59 years</th>\n",
       "      <th>60 - 64 years</th>\n",
       "      <th>65 - 69 years</th>\n",
       "      <th>70 years and over</th>\n",
       "      <th>Total</th>\n",
       "      <th>Average age at retirement years</th>\n",
       "    </tr>\n",
       "  </thead>\n",
       "  <tbody>\n",
       "    <tr>\n",
       "      <th>0</th>\n",
       "      <td>2014-15</td>\n",
       "      <td>People aged 45 years and over</td>\n",
       "      <td>Persons</td>\n",
       "      <td>Status in employment of last job</td>\n",
       "      <td>Had a job in the last 20 years</td>\n",
       "      <td>652.118</td>\n",
       "      <td>560.437</td>\n",
       "      <td>633.426</td>\n",
       "      <td>384.288</td>\n",
       "      <td>170.014</td>\n",
       "      <td>2400.282</td>\n",
       "      <td>58.360</td>\n",
       "    </tr>\n",
       "    <tr>\n",
       "      <th>1</th>\n",
       "      <td>2014-15</td>\n",
       "      <td>People aged 45 years and over</td>\n",
       "      <td>Persons</td>\n",
       "      <td>Status in employment of last job</td>\n",
       "      <td>Employee</td>\n",
       "      <td>546.831</td>\n",
       "      <td>430.717</td>\n",
       "      <td>484.554</td>\n",
       "      <td>274.565</td>\n",
       "      <td>108.509</td>\n",
       "      <td>1845.176</td>\n",
       "      <td>57.752</td>\n",
       "    </tr>\n",
       "    <tr>\n",
       "      <th>2</th>\n",
       "      <td>2014-15</td>\n",
       "      <td>People aged 45 years and over</td>\n",
       "      <td>Persons</td>\n",
       "      <td>Status in employment of last job</td>\n",
       "      <td>with paid leave entitlements</td>\n",
       "      <td>352.237</td>\n",
       "      <td>331.567</td>\n",
       "      <td>374.089</td>\n",
       "      <td>201.877</td>\n",
       "      <td>67.135</td>\n",
       "      <td>1326.904</td>\n",
       "      <td>58.201</td>\n",
       "    </tr>\n",
       "    <tr>\n",
       "      <th>3</th>\n",
       "      <td>2014-15</td>\n",
       "      <td>People aged 45 years and over</td>\n",
       "      <td>Persons</td>\n",
       "      <td>Status in employment of last job</td>\n",
       "      <td>without paid leave entitlements</td>\n",
       "      <td>194.594</td>\n",
       "      <td>99.151</td>\n",
       "      <td>110.465</td>\n",
       "      <td>72.688</td>\n",
       "      <td>41.375</td>\n",
       "      <td>518.272</td>\n",
       "      <td>56.601</td>\n",
       "    </tr>\n",
       "    <tr>\n",
       "      <th>4</th>\n",
       "      <td>2014-15</td>\n",
       "      <td>People aged 45 years and over</td>\n",
       "      <td>Persons</td>\n",
       "      <td>Status in employment of last job</td>\n",
       "      <td>Owner manager</td>\n",
       "      <td>82.123</td>\n",
       "      <td>112.822</td>\n",
       "      <td>134.598</td>\n",
       "      <td>104.000</td>\n",
       "      <td>59.367</td>\n",
       "      <td>492.909</td>\n",
       "      <td>61.017</td>\n",
       "    </tr>\n",
       "  </tbody>\n",
       "</table>\n",
       "</div>"
      ],
      "text/plain": [
       "      Year         Population of Interest      Sex  \\\n",
       "0  2014-15  People aged 45 years and over  Persons   \n",
       "1  2014-15  People aged 45 years and over  Persons   \n",
       "2  2014-15  People aged 45 years and over  Persons   \n",
       "3  2014-15  People aged 45 years and over  Persons   \n",
       "4  2014-15  People aged 45 years and over  Persons   \n",
       "\n",
       "                     Classification                               Category  \\\n",
       "0  Status in employment of last job         Had a job in the last 20 years   \n",
       "1  Status in employment of last job                               Employee   \n",
       "2  Status in employment of last job           with paid leave entitlements   \n",
       "3  Status in employment of last job        without paid leave entitlements   \n",
       "4  Status in employment of last job                          Owner manager   \n",
       "\n",
       "   54 years and under  55 - 59 years  60 - 64 years  65 - 69 years  \\\n",
       "0             652.118        560.437        633.426        384.288   \n",
       "1             546.831        430.717        484.554        274.565   \n",
       "2             352.237        331.567        374.089        201.877   \n",
       "3             194.594         99.151        110.465         72.688   \n",
       "4              82.123        112.822        134.598        104.000   \n",
       "\n",
       "   70 years and over     Total  Average age at retirement years  \n",
       "0            170.014  2400.282                           58.360  \n",
       "1            108.509  1845.176                           57.752  \n",
       "2             67.135  1326.904                           58.201  \n",
       "3             41.375   518.272                           56.601  \n",
       "4             59.367   492.909                           61.017  "
      ]
     },
     "execution_count": 3,
     "metadata": {},
     "output_type": "execute_result"
    }
   ],
   "source": [
    "retirees_df = pd.read_excel(open('data/Previous jobs of retireees - cleaned.xlsx', 'rb'),\n",
    "              sheet_name='Data 4.1')\n",
    "retirees_df.head()"
   ]
  },
  {
   "cell_type": "code",
   "execution_count": 4,
   "id": "ea8e434f",
   "metadata": {},
   "outputs": [
    {
     "data": {
      "text/html": [
       "<div>\n",
       "<style scoped>\n",
       "    .dataframe tbody tr th:only-of-type {\n",
       "        vertical-align: middle;\n",
       "    }\n",
       "\n",
       "    .dataframe tbody tr th {\n",
       "        vertical-align: top;\n",
       "    }\n",
       "\n",
       "    .dataframe thead th {\n",
       "        text-align: right;\n",
       "    }\n",
       "</style>\n",
       "<table border=\"1\" class=\"dataframe\">\n",
       "  <thead>\n",
       "    <tr style=\"text-align: right;\">\n",
       "      <th></th>\n",
       "      <th>Year</th>\n",
       "      <th>Population of Interest</th>\n",
       "      <th>Sex</th>\n",
       "      <th>Classification</th>\n",
       "      <th>Category</th>\n",
       "      <th>New South Wales</th>\n",
       "      <th>Victoria</th>\n",
       "      <th>Queensland</th>\n",
       "      <th>South Australia</th>\n",
       "      <th>Western Australia</th>\n",
       "      <th>Tasmania</th>\n",
       "      <th>Northern Territory</th>\n",
       "      <th>Australian Capital Territory</th>\n",
       "      <th>Australia</th>\n",
       "    </tr>\n",
       "  </thead>\n",
       "  <tbody>\n",
       "    <tr>\n",
       "      <th>0</th>\n",
       "      <td>2014-15</td>\n",
       "      <td>P01 - All people aged 45 years and over</td>\n",
       "      <td>Persons</td>\n",
       "      <td>Scope</td>\n",
       "      <td>P01 - All people aged 45 years and over</td>\n",
       "      <td>2873.598</td>\n",
       "      <td>2215.417</td>\n",
       "      <td>1721.291</td>\n",
       "      <td>689.103</td>\n",
       "      <td>886.740</td>\n",
       "      <td>225.157</td>\n",
       "      <td>63.577</td>\n",
       "      <td>130.546</td>\n",
       "      <td>8805.428</td>\n",
       "    </tr>\n",
       "    <tr>\n",
       "      <th>1</th>\n",
       "      <td>2014-15</td>\n",
       "      <td>P01 - All people aged 45 years and over</td>\n",
       "      <td>Persons</td>\n",
       "      <td>Scope</td>\n",
       "      <td>P02 - People who were working or had worked be...</td>\n",
       "      <td>2759.483</td>\n",
       "      <td>2134.037</td>\n",
       "      <td>1674.521</td>\n",
       "      <td>671.861</td>\n",
       "      <td>870.586</td>\n",
       "      <td>220.058</td>\n",
       "      <td>61.797</td>\n",
       "      <td>126.827</td>\n",
       "      <td>8519.170</td>\n",
       "    </tr>\n",
       "    <tr>\n",
       "      <th>2</th>\n",
       "      <td>2014-15</td>\n",
       "      <td>P01 - All people aged 45 years and over</td>\n",
       "      <td>Persons</td>\n",
       "      <td>Scope</td>\n",
       "      <td>P03 - People who had never worked before</td>\n",
       "      <td>114.116</td>\n",
       "      <td>81.380</td>\n",
       "      <td>46.770</td>\n",
       "      <td>17.242</td>\n",
       "      <td>16.155</td>\n",
       "      <td>5.098</td>\n",
       "      <td>1.780</td>\n",
       "      <td>3.718</td>\n",
       "      <td>286.258</td>\n",
       "    </tr>\n",
       "    <tr>\n",
       "      <th>3</th>\n",
       "      <td>2014-15</td>\n",
       "      <td>P01 - All people aged 45 years and over</td>\n",
       "      <td>Persons</td>\n",
       "      <td>Labour force status</td>\n",
       "      <td>P04 - People in the labour force</td>\n",
       "      <td>1480.193</td>\n",
       "      <td>1216.047</td>\n",
       "      <td>891.244</td>\n",
       "      <td>349.624</td>\n",
       "      <td>507.451</td>\n",
       "      <td>111.027</td>\n",
       "      <td>47.879</td>\n",
       "      <td>79.346</td>\n",
       "      <td>4682.812</td>\n",
       "    </tr>\n",
       "    <tr>\n",
       "      <th>4</th>\n",
       "      <td>2014-15</td>\n",
       "      <td>P01 - All people aged 45 years and over</td>\n",
       "      <td>Persons</td>\n",
       "      <td>Labour force status</td>\n",
       "      <td>P05 - Employed people</td>\n",
       "      <td>1421.700</td>\n",
       "      <td>1158.283</td>\n",
       "      <td>858.446</td>\n",
       "      <td>334.831</td>\n",
       "      <td>495.982</td>\n",
       "      <td>106.863</td>\n",
       "      <td>47.433</td>\n",
       "      <td>78.230</td>\n",
       "      <td>4501.768</td>\n",
       "    </tr>\n",
       "  </tbody>\n",
       "</table>\n",
       "</div>"
      ],
      "text/plain": [
       "      Year                   Population of Interest      Sex  \\\n",
       "0  2014-15  P01 - All people aged 45 years and over  Persons   \n",
       "1  2014-15  P01 - All people aged 45 years and over  Persons   \n",
       "2  2014-15  P01 - All people aged 45 years and over  Persons   \n",
       "3  2014-15  P01 - All people aged 45 years and over  Persons   \n",
       "4  2014-15  P01 - All people aged 45 years and over  Persons   \n",
       "\n",
       "        Classification                                           Category  \\\n",
       "0                Scope            P01 - All people aged 45 years and over   \n",
       "1                Scope  P02 - People who were working or had worked be...   \n",
       "2                Scope           P03 - People who had never worked before   \n",
       "3  Labour force status                   P04 - People in the labour force   \n",
       "4  Labour force status                              P05 - Employed people   \n",
       "\n",
       "   New South Wales  Victoria  Queensland  South Australia  Western Australia  \\\n",
       "0         2873.598  2215.417    1721.291          689.103            886.740   \n",
       "1         2759.483  2134.037    1674.521          671.861            870.586   \n",
       "2          114.116    81.380      46.770           17.242             16.155   \n",
       "3         1480.193  1216.047     891.244          349.624            507.451   \n",
       "4         1421.700  1158.283     858.446          334.831            495.982   \n",
       "\n",
       "   Tasmania  Northern Territory  Australian Capital Territory  Australia  \n",
       "0   225.157              63.577                       130.546   8805.428  \n",
       "1   220.058              61.797                       126.827   8519.170  \n",
       "2     5.098               1.780                         3.718    286.258  \n",
       "3   111.027              47.879                        79.346   4682.812  \n",
       "4   106.863              47.433                        78.230   4501.768  "
      ]
     },
     "execution_count": 4,
     "metadata": {},
     "output_type": "execute_result"
    }
   ],
   "source": [
    "population_df = pd.read_excel(open('data/Populations by State and Teritory - cleaned.xlsx', 'rb'),\n",
    "              sheet_name='Data 13.1')\n",
    "population_df.head()"
   ]
  },
  {
   "cell_type": "code",
   "execution_count": 21,
   "id": "2416e66f",
   "metadata": {},
   "outputs": [
    {
     "data": {
      "text/plain": [
       "array(['Status in employment of last job',\n",
       "       'Usual weekly hours worked in last job', 'Occupation of last job',\n",
       "       'Skill level of last job', 'Industry of last job', 'TOTAL'],\n",
       "      dtype=object)"
      ]
     },
     "execution_count": 21,
     "metadata": {},
     "output_type": "execute_result"
    }
   ],
   "source": [
    "retirees_df['Classification'].unique()"
   ]
  },
  {
   "cell_type": "code",
   "execution_count": 27,
   "id": "b6996ade",
   "metadata": {},
   "outputs": [
    {
     "data": {
      "text/plain": [
       "array(['Agriculture, forestry and fishing', 'Mining', 'Manufacturing',\n",
       "       'Electricity, gas, water and waste services', 'Construction',\n",
       "       'Wholesale trade', 'Retail trade',\n",
       "       'Accommodation and food services',\n",
       "       'Transport, postal and warehousing',\n",
       "       'Information Media and telecommunications',\n",
       "       'Financial and insurance services',\n",
       "       'Rental, hiring and real estate services',\n",
       "       'Professional, scientific and technical services',\n",
       "       'Administrative and support services',\n",
       "       'Public administration and safety', 'Education and training',\n",
       "       'Health care and social assistance',\n",
       "       'Arts and recreation services', 'Other services'], dtype=object)"
      ]
     },
     "execution_count": 27,
     "metadata": {},
     "output_type": "execute_result"
    }
   ],
   "source": [
    "retirees_df.loc[retirees_df['Classification'] == 'Industry of last job']['Category'].unique()"
   ]
  },
  {
   "cell_type": "markdown",
   "id": "5752ddfe",
   "metadata": {},
   "source": [
    "# Do certain professions retire at an earlier age?"
   ]
  },
  {
   "cell_type": "code",
   "execution_count": 22,
   "id": "79b9b2d1",
   "metadata": {},
   "outputs": [
    {
     "data": {
      "text/html": [
       "<div>\n",
       "<style scoped>\n",
       "    .dataframe tbody tr th:only-of-type {\n",
       "        vertical-align: middle;\n",
       "    }\n",
       "\n",
       "    .dataframe tbody tr th {\n",
       "        vertical-align: top;\n",
       "    }\n",
       "\n",
       "    .dataframe thead th {\n",
       "        text-align: right;\n",
       "    }\n",
       "</style>\n",
       "<table border=\"1\" class=\"dataframe\">\n",
       "  <thead>\n",
       "    <tr style=\"text-align: right;\">\n",
       "      <th></th>\n",
       "      <th>Year</th>\n",
       "      <th>Population of Interest</th>\n",
       "      <th>Sex</th>\n",
       "      <th>Classification</th>\n",
       "      <th>Category</th>\n",
       "      <th>54 years and under</th>\n",
       "      <th>55 - 59 years</th>\n",
       "      <th>60 - 64 years</th>\n",
       "      <th>65 - 69 years</th>\n",
       "      <th>70 years and over</th>\n",
       "      <th>Total</th>\n",
       "      <th>Average age at retirement years</th>\n",
       "    </tr>\n",
       "  </thead>\n",
       "  <tbody>\n",
       "    <tr>\n",
       "      <th>1561</th>\n",
       "      <td>2014-15</td>\n",
       "      <td>New South Wales</td>\n",
       "      <td>Persons</td>\n",
       "      <td>Industry of last job</td>\n",
       "      <td>Agriculture, forestry and fishing</td>\n",
       "      <td>2.489</td>\n",
       "      <td>0.529</td>\n",
       "      <td>7.398</td>\n",
       "      <td>0.000</td>\n",
       "      <td>4.389</td>\n",
       "      <td>14.805</td>\n",
       "      <td>64.666</td>\n",
       "    </tr>\n",
       "    <tr>\n",
       "      <th>1562</th>\n",
       "      <td>2014-15</td>\n",
       "      <td>New South Wales</td>\n",
       "      <td>Persons</td>\n",
       "      <td>Industry of last job</td>\n",
       "      <td>Mining</td>\n",
       "      <td>0.000</td>\n",
       "      <td>2.272</td>\n",
       "      <td>2.057</td>\n",
       "      <td>2.323</td>\n",
       "      <td>0.000</td>\n",
       "      <td>6.652</td>\n",
       "      <td>62.190</td>\n",
       "    </tr>\n",
       "    <tr>\n",
       "      <th>1563</th>\n",
       "      <td>2014-15</td>\n",
       "      <td>New South Wales</td>\n",
       "      <td>Persons</td>\n",
       "      <td>Industry of last job</td>\n",
       "      <td>Manufacturing</td>\n",
       "      <td>27.878</td>\n",
       "      <td>20.431</td>\n",
       "      <td>20.648</td>\n",
       "      <td>20.851</td>\n",
       "      <td>9.359</td>\n",
       "      <td>99.168</td>\n",
       "      <td>58.729</td>\n",
       "    </tr>\n",
       "    <tr>\n",
       "      <th>1564</th>\n",
       "      <td>2014-15</td>\n",
       "      <td>New South Wales</td>\n",
       "      <td>Persons</td>\n",
       "      <td>Industry of last job</td>\n",
       "      <td>Electricity, gas, water and waste services</td>\n",
       "      <td>1.408</td>\n",
       "      <td>2.841</td>\n",
       "      <td>8.509</td>\n",
       "      <td>3.050</td>\n",
       "      <td>0.000</td>\n",
       "      <td>15.808</td>\n",
       "      <td>60.054</td>\n",
       "    </tr>\n",
       "    <tr>\n",
       "      <th>1565</th>\n",
       "      <td>2014-15</td>\n",
       "      <td>New South Wales</td>\n",
       "      <td>Persons</td>\n",
       "      <td>Industry of last job</td>\n",
       "      <td>Construction</td>\n",
       "      <td>13.452</td>\n",
       "      <td>9.563</td>\n",
       "      <td>12.276</td>\n",
       "      <td>3.667</td>\n",
       "      <td>2.077</td>\n",
       "      <td>41.035</td>\n",
       "      <td>56.476</td>\n",
       "    </tr>\n",
       "    <tr>\n",
       "      <th>...</th>\n",
       "      <td>...</td>\n",
       "      <td>...</td>\n",
       "      <td>...</td>\n",
       "      <td>...</td>\n",
       "      <td>...</td>\n",
       "      <td>...</td>\n",
       "      <td>...</td>\n",
       "      <td>...</td>\n",
       "      <td>...</td>\n",
       "      <td>...</td>\n",
       "      <td>...</td>\n",
       "      <td>...</td>\n",
       "    </tr>\n",
       "    <tr>\n",
       "      <th>16416</th>\n",
       "      <td>2020-21</td>\n",
       "      <td>Australian Capital Territory</td>\n",
       "      <td>Persons</td>\n",
       "      <td>Industry of last job</td>\n",
       "      <td>Public administration and safety</td>\n",
       "      <td>1.726</td>\n",
       "      <td>7.469</td>\n",
       "      <td>3.950</td>\n",
       "      <td>4.344</td>\n",
       "      <td>0.000</td>\n",
       "      <td>17.489</td>\n",
       "      <td>59.367</td>\n",
       "    </tr>\n",
       "    <tr>\n",
       "      <th>16417</th>\n",
       "      <td>2020-21</td>\n",
       "      <td>Australian Capital Territory</td>\n",
       "      <td>Persons</td>\n",
       "      <td>Industry of last job</td>\n",
       "      <td>Education and training</td>\n",
       "      <td>0.000</td>\n",
       "      <td>1.347</td>\n",
       "      <td>1.209</td>\n",
       "      <td>0.443</td>\n",
       "      <td>0.000</td>\n",
       "      <td>3.000</td>\n",
       "      <td>60.231</td>\n",
       "    </tr>\n",
       "    <tr>\n",
       "      <th>16418</th>\n",
       "      <td>2020-21</td>\n",
       "      <td>Australian Capital Territory</td>\n",
       "      <td>Persons</td>\n",
       "      <td>Industry of last job</td>\n",
       "      <td>Health care and social assistance</td>\n",
       "      <td>0.684</td>\n",
       "      <td>1.326</td>\n",
       "      <td>0.701</td>\n",
       "      <td>0.960</td>\n",
       "      <td>0.000</td>\n",
       "      <td>3.671</td>\n",
       "      <td>59.636</td>\n",
       "    </tr>\n",
       "    <tr>\n",
       "      <th>16419</th>\n",
       "      <td>2020-21</td>\n",
       "      <td>Australian Capital Territory</td>\n",
       "      <td>Persons</td>\n",
       "      <td>Industry of last job</td>\n",
       "      <td>Arts and recreation services</td>\n",
       "      <td>0.000</td>\n",
       "      <td>0.000</td>\n",
       "      <td>0.000</td>\n",
       "      <td>0.000</td>\n",
       "      <td>0.000</td>\n",
       "      <td>0.000</td>\n",
       "      <td>0.000</td>\n",
       "    </tr>\n",
       "    <tr>\n",
       "      <th>16420</th>\n",
       "      <td>2020-21</td>\n",
       "      <td>Australian Capital Territory</td>\n",
       "      <td>Persons</td>\n",
       "      <td>Industry of last job</td>\n",
       "      <td>Other services</td>\n",
       "      <td>0.000</td>\n",
       "      <td>0.237</td>\n",
       "      <td>0.000</td>\n",
       "      <td>0.406</td>\n",
       "      <td>0.000</td>\n",
       "      <td>0.643</td>\n",
       "      <td>61.310</td>\n",
       "    </tr>\n",
       "  </tbody>\n",
       "</table>\n",
       "<p>608 rows × 12 columns</p>\n",
       "</div>"
      ],
      "text/plain": [
       "          Year        Population of Interest      Sex        Classification  \\\n",
       "1561   2014-15               New South Wales  Persons  Industry of last job   \n",
       "1562   2014-15               New South Wales  Persons  Industry of last job   \n",
       "1563   2014-15               New South Wales  Persons  Industry of last job   \n",
       "1564   2014-15               New South Wales  Persons  Industry of last job   \n",
       "1565   2014-15               New South Wales  Persons  Industry of last job   \n",
       "...        ...                           ...      ...                   ...   \n",
       "16416  2020-21  Australian Capital Territory  Persons  Industry of last job   \n",
       "16417  2020-21  Australian Capital Territory  Persons  Industry of last job   \n",
       "16418  2020-21  Australian Capital Territory  Persons  Industry of last job   \n",
       "16419  2020-21  Australian Capital Territory  Persons  Industry of last job   \n",
       "16420  2020-21  Australian Capital Territory  Persons  Industry of last job   \n",
       "\n",
       "                                         Category  54 years and under  \\\n",
       "1561            Agriculture, forestry and fishing               2.489   \n",
       "1562                                       Mining               0.000   \n",
       "1563                                Manufacturing              27.878   \n",
       "1564   Electricity, gas, water and waste services               1.408   \n",
       "1565                                 Construction              13.452   \n",
       "...                                           ...                 ...   \n",
       "16416            Public administration and safety               1.726   \n",
       "16417                      Education and training               0.000   \n",
       "16418           Health care and social assistance               0.684   \n",
       "16419                Arts and recreation services               0.000   \n",
       "16420                              Other services               0.000   \n",
       "\n",
       "       55 - 59 years  60 - 64 years  65 - 69 years  70 years and over   Total  \\\n",
       "1561           0.529          7.398          0.000              4.389  14.805   \n",
       "1562           2.272          2.057          2.323              0.000   6.652   \n",
       "1563          20.431         20.648         20.851              9.359  99.168   \n",
       "1564           2.841          8.509          3.050              0.000  15.808   \n",
       "1565           9.563         12.276          3.667              2.077  41.035   \n",
       "...              ...            ...            ...                ...     ...   \n",
       "16416          7.469          3.950          4.344              0.000  17.489   \n",
       "16417          1.347          1.209          0.443              0.000   3.000   \n",
       "16418          1.326          0.701          0.960              0.000   3.671   \n",
       "16419          0.000          0.000          0.000              0.000   0.000   \n",
       "16420          0.237          0.000          0.406              0.000   0.643   \n",
       "\n",
       "       Average age at retirement years  \n",
       "1561                            64.666  \n",
       "1562                            62.190  \n",
       "1563                            58.729  \n",
       "1564                            60.054  \n",
       "1565                            56.476  \n",
       "...                                ...  \n",
       "16416                           59.367  \n",
       "16417                           60.231  \n",
       "16418                           59.636  \n",
       "16419                            0.000  \n",
       "16420                           61.310  \n",
       "\n",
       "[608 rows x 12 columns]"
      ]
     },
     "execution_count": 22,
     "metadata": {},
     "output_type": "execute_result"
    }
   ],
   "source": [
    "industry_condition = (retirees_df['Classification'] = 'Industry of last job')\n",
    "gender_condition = (retirees_df['Sex'] == 'Persons') # Keeping all genders\n",
    "list_states = ['New South Wales',\n",
    "'Victoria',\n",
    "'Queensland',\n",
    "'South Australia',\n",
    "'Western Australia',\n",
    "'Tasmania',\n",
    "'Northern Territory',\n",
    "'Australian Capital Territory'\n",
    "] # only exploring state level information\n",
    "state_condition = (retirees_df['Population of Interest'].isin(list_states))\n",
    "\n",
    "\n",
    "\n",
    "retirement_df = retirees_df.loc[industry_condition & gender_condition & state_condition] # applying all conditions\n",
    "retirement_df"
   ]
  },
  {
   "cell_type": "code",
   "execution_count": 23,
   "id": "f307b733",
   "metadata": {},
   "outputs": [
    {
     "data": {
      "text/plain": [
       "array(['2014-15', '2016-17', '2018-19', '2020-21'], dtype=object)"
      ]
     },
     "execution_count": 23,
     "metadata": {},
     "output_type": "execute_result"
    }
   ],
   "source": [
    "# years presentr in the dataset\n",
    "\n",
    "retirement_df.Year.unique()"
   ]
  },
  {
   "cell_type": "code",
   "execution_count": 24,
   "id": "fb6e865c",
   "metadata": {
    "scrolled": true
   },
   "outputs": [
    {
     "data": {
      "text/plain": [
       "Category\n",
       "Financial and insurance services                   48.167812\n",
       "Electricity, gas, water and waste services         48.836750\n",
       "Mining                                             50.884813\n",
       "Information Media and telecommunications           51.265219\n",
       "Agriculture, forestry and fishing                  52.085656\n",
       "Rental, hiring and real estate services            52.455281\n",
       "Manufacturing                                      52.934750\n",
       "Wholesale trade                                    54.228031\n",
       "Arts and recreation services                       54.827781\n",
       "Administrative and support services                54.922875\n",
       "Other services                                     57.319500\n",
       "Accommodation and food services                    57.800562\n",
       "Retail trade                                       58.038000\n",
       "Health care and social assistance                  59.814750\n",
       "Public administration and safety                   59.912312\n",
       "Construction                                       60.041156\n",
       "Education and training                             60.886531\n",
       "Transport, postal and warehousing                  61.098969\n",
       "Professional, scientific and technical services    62.176594\n",
       "Name: Average age at retirement years, dtype: float64"
      ]
     },
     "execution_count": 24,
     "metadata": {},
     "output_type": "execute_result"
    }
   ],
   "source": [
    "avg_retirement_age = retirement_df.groupby('Category')['Average age at retirement years'].mean().sort_values()\n",
    "avg_retirement_age"
   ]
  },
  {
   "cell_type": "code",
   "execution_count": 25,
   "id": "bef1597b",
   "metadata": {},
   "outputs": [
    {
     "data": {
      "text/plain": [
       "<AxesSubplot:xlabel='Category'>"
      ]
     },
     "execution_count": 25,
     "metadata": {},
     "output_type": "execute_result"
    },
    {
     "data": {
      "image/png": "[encoded data removed]",
      "text/plain": [
       "<Figure size 432x288 with 1 Axes>"
      ]
     },
     "metadata": {
      "needs_background": "light"
     },
     "output_type": "display_data"
    }
   ],
   "source": [
    "avg_retirement_age.plot(kind='bar')"
   ]
  },
  {
   "cell_type": "code",
   "execution_count": 26,
   "id": "7866a175",
   "metadata": {},
   "outputs": [
    {
     "data": {
      "text/plain": [
       "Category\n",
       "Financial and insurance services              48.167812\n",
       "Electricity, gas, water and waste services    48.836750\n",
       "Mining                                        50.884813\n",
       "Information Media and telecommunications      51.265219\n",
       "Agriculture, forestry and fishing             52.085656\n",
       "Name: Average age at retirement years, dtype: float64"
      ]
     },
     "execution_count": 26,
     "metadata": {},
     "output_type": "execute_result"
    }
   ],
   "source": [
    "avg_retirement_age.nsmallest(n=5, keep='first')"
   ]
  },
  {
   "cell_type": "code",
   "execution_count": 28,
   "id": "4a679479",
   "metadata": {},
   "outputs": [
    {
     "data": {
      "text/plain": [
       "Category\n",
       "Administrative and support services                57.4865\n",
       "Accommodation and food services                    57.6080\n",
       "Financial and insurance services                   57.7515\n",
       "Retail trade                                       57.8765\n",
       "Manufacturing                                      58.3165\n",
       "Rental, hiring and real estate services            58.3705\n",
       "Information Media and telecommunications           58.5450\n",
       "Other services                                     59.4330\n",
       "Public administration and safety                   59.6490\n",
       "Health care and social assistance                  59.6700\n",
       "Wholesale trade                                    59.7155\n",
       "Electricity, gas, water and waste services         59.7920\n",
       "Education and training                             60.0245\n",
       "Arts and recreation services                       60.1245\n",
       "Mining                                             60.2900\n",
       "Transport, postal and warehousing                  60.6655\n",
       "Construction                                       60.7455\n",
       "Professional, scientific and technical services    61.3350\n",
       "Agriculture, forestry and fishing                  61.4775\n",
       "Name: Average age at retirement years, dtype: float64"
      ]
     },
     "execution_count": 28,
     "metadata": {},
     "output_type": "execute_result"
    }
   ],
   "source": [
    "med_retirement_age = retirement_df.groupby('Category')['Average age at retirement years'].median().sort_values()\n",
    "med_retirement_age"
   ]
  },
  {
   "cell_type": "code",
   "execution_count": 29,
   "id": "02e073fc",
   "metadata": {},
   "outputs": [
    {
     "data": {
      "text/plain": [
       "<AxesSubplot:xlabel='Category'>"
      ]
     },
     "execution_count": 29,
     "metadata": {},
     "output_type": "execute_result"
    },
    {
     "data": {
      "image/png": "[encoded data removed]",
      "text/plain": [
       "<Figure size 432x288 with 1 Axes>"
      ]
     },
     "metadata": {
      "needs_background": "light"
     },
     "output_type": "display_data"
    }
   ],
   "source": [
    "med_retirement_age.plot(kind='bar')"
   ]
  },
  {
   "cell_type": "code",
   "execution_count": 30,
   "id": "b760837c",
   "metadata": {},
   "outputs": [
    {
     "data": {
      "text/plain": [
       "Category\n",
       "Administrative and support services    57.4865\n",
       "Accommodation and food services        57.6080\n",
       "Financial and insurance services       57.7515\n",
       "Retail trade                           57.8765\n",
       "Manufacturing                          58.3165\n",
       "Name: Average age at retirement years, dtype: float64"
      ]
     },
     "execution_count": 30,
     "metadata": {},
     "output_type": "execute_result"
    }
   ],
   "source": [
    "med_retirement_age.nsmallest(n=5, keep='first')"
   ]
  },
  {
   "cell_type": "code",
   "execution_count": null,
   "id": "2332e018",
   "metadata": {},
   "outputs": [],
   "source": []
  }
 ],
 "metadata": {
  "kernelspec": {
   "display_name": "Python 3 (ipykernel)",
   "language": "python",
   "name": "python3"
  },
  "language_info": {
   "codemirror_mode": {
    "name": "ipython",
    "version": 3
   },
   "file_extension": ".py",
   "mimetype": "text/x-python",
   "name": "python",
   "nbconvert_exporter": "python",
   "pygments_lexer": "ipython3",
   "version": "3.9.12"
  }
 },
 "nbformat": 4,
 "nbformat_minor": 5
}
